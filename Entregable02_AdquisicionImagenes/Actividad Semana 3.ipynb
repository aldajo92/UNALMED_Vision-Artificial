{
 "cells": [
  {
   "cell_type": "markdown",
   "metadata": {},
   "source": [
    "# Actividades Semana 3"
   ]
  },
  {
   "cell_type": "code",
   "execution_count": 1,
   "metadata": {},
   "outputs": [
    {
     "ename": "ModuleNotFoundError",
     "evalue": "No module named 'cv2'",
     "output_type": "error",
     "traceback": [
      "\u001b[0;31m---------------------------------------------------------------------------\u001b[0m",
      "\u001b[0;31mModuleNotFoundError\u001b[0m                       Traceback (most recent call last)",
      "\u001b[0;32m<ipython-input-1-515ebff12363>\u001b[0m in \u001b[0;36m<module>\u001b[0;34m\u001b[0m\n\u001b[1;32m      1\u001b[0m \u001b[0;31m#Importar las librerías a usar\u001b[0m\u001b[0;34m\u001b[0m\u001b[0;34m\u001b[0m\u001b[0;34m\u001b[0m\u001b[0m\n\u001b[1;32m      2\u001b[0m \u001b[0;34m\u001b[0m\u001b[0m\n\u001b[0;32m----> 3\u001b[0;31m \u001b[0;32mimport\u001b[0m \u001b[0mcv2\u001b[0m\u001b[0;34m\u001b[0m\u001b[0;34m\u001b[0m\u001b[0m\n\u001b[0m\u001b[1;32m      4\u001b[0m \u001b[0;32mimport\u001b[0m \u001b[0mnumpy\u001b[0m \u001b[0;32mas\u001b[0m \u001b[0mnp\u001b[0m\u001b[0;34m\u001b[0m\u001b[0;34m\u001b[0m\u001b[0m\n\u001b[1;32m      5\u001b[0m \u001b[0;32mimport\u001b[0m \u001b[0mmatplotlib\u001b[0m\u001b[0;34m.\u001b[0m\u001b[0mpyplot\u001b[0m \u001b[0;32mas\u001b[0m \u001b[0mplt\u001b[0m\u001b[0;34m\u001b[0m\u001b[0;34m\u001b[0m\u001b[0m\n",
      "\u001b[0;31mModuleNotFoundError\u001b[0m: No module named 'cv2'"
     ]
    }
   ],
   "source": [
    "#Importar las librerías a usar\n",
    "\n",
    "import cv2\n",
    "import numpy as np\n",
    "import matplotlib.pyplot as plt"
   ]
  },
  {
   "cell_type": "markdown",
   "metadata": {},
   "source": [
    "Lea con OpenCV la imagen \"alce.png\" que está dentro de la carpeta \"res\". Conviértala a RGB y luego divídala en cuatro cuadrantes tales que el primer cuadrante muestre el color original de la imagen, el segundo muestre el canal azul únicamente, el tercero muestre el canal verde y el cuarto muestre el canal rojo.\n",
    "<br>Debe obtener lo siguiente: </br>\n",
    "\n",
    "<img src=\"res/actividad1.png\"/>"
   ]
  },
  {
   "cell_type": "code",
   "execution_count": null,
   "metadata": {},
   "outputs": [],
   "source": [
    "#Leer la imagen del alce en RGB\n",
    "###Escriba su código aquí (aprox 2 lineas)###\n",
    "#Primero se lee la imagen a color \n",
    "img = cv2.imread(\"./res/alce.png\")\n",
    "#Luego se hace conversión a RGB\n",
    "img_rgb_original = cv2.cvtColor(img, cv2.COLOR_BGR2RGB)\n",
    "###Modificación termina aquí###\n",
    "\n",
    "#Mostrar Imagen\n",
    "plt.imshow(img_rgb_original)"
   ]
  },
  {
   "cell_type": "code",
   "execution_count": null,
   "metadata": {},
   "outputs": [],
   "source": [
    "img_shape = img_rgb_original.shape\n",
    "height = img_shape[0]\n",
    "width = img_shape[1]\n",
    "half_height = height//2\n",
    "half_width = width//2\n",
    "print(img_shape)"
   ]
  },
  {
   "cell_type": "code",
   "execution_count": null,
   "metadata": {},
   "outputs": [],
   "source": [
    "###Escriba su código aquí (aprox 6 lineas)###\n",
    "img_rgb = img_rgb_original.copy()\n",
    "img_rgb[0:half_height, half_width:width, 0] = 0\n",
    "img_rgb[0:half_height, half_width:width, 1] = 0\n",
    "img_rgb[half_height:height, 0:half_width, 0] = 0\n",
    "img_rgb[half_height:height, 0:half_width, 2] = 0\n",
    "img_rgb[half_height:height, half_width:width, 1] = 0\n",
    "img_rgb[half_height:height, half_width:width, 2] = 0\n",
    "###Modificación termina aquí###\n",
    "#Mostrar imagen\n",
    "plt.imshow(img_rgb)"
   ]
  },
  {
   "cell_type": "markdown",
   "metadata": {},
   "source": [
    "### Salida esperada:\n",
    "\n",
    "<img src=\"res/actividad1.png\"/>"
   ]
  },
  {
   "cell_type": "markdown",
   "metadata": {},
   "source": [
    "---"
   ]
  },
  {
   "cell_type": "markdown",
   "metadata": {},
   "source": [
    "## Actividad 2."
   ]
  },
  {
   "cell_type": "markdown",
   "metadata": {},
   "source": [
    "Algunos problemas de visión artificial, suelen abordarse mediante el estudio de los canales de los espacios de color, algunos de ellos: RGB, HSV, LAB, YUV y XYZ.\n",
    "\n",
    "<br>Lea la imagen \"frutas.jpg\" que se encuentra en la carpeta \"res\" y realice un subplot que muestre la imagen en cada uno de los canales que conforman los espacios de color nombrados anteriormente. Adicionalmente muestre la imagen en escala de grises</br>\n"
   ]
  },
  {
   "cell_type": "code",
   "execution_count": null,
   "metadata": {},
   "outputs": [],
   "source": [
    "#Leer imagen con opecnv\n",
    "img = cv2.imread(\"res/frutas.jpg\", cv2.IMREAD_COLOR)\n",
    "\n",
    "#Convertir a escalas de grises\n",
    "img_gray = cv2.imread(\"res/frutas.jpg\", cv2.IMREAD_GRAYSCALE)\n",
    "#Convertir a RGB\n",
    "img_rgb = cv2.cvtColor(img, cv2.COLOR_BGR2RGB)\n",
    "#Convertir a HSV\n",
    "img_hsv = cv2.cvtColor(img, cv2.COLOR_BGR2HSV)\n",
    "#Convertir a LAB\n",
    "img_lab = cv2.cvtColor(img, cv2.COLOR_BGR2LAB)\n",
    "#Convertir a YUV\n",
    "img_yuv = cv2.cvtColor(img, cv2.COLOR_BGR2YUV)\n",
    "#Convertir a XYZ\n",
    "img_xyz = cv2.cvtColor(img, cv2.COLOR_BGR2XYZ)\n",
    "\n",
    "\n",
    "#Se crea un subplot de 2x3, para mostrar las 6 imágenes y compararlas.\n",
    "fig, ((ax1, ax2, ax3), (ax4, ax5, ax6)) = plt.subplots(2,3, figsize=(28, 15))\n",
    "fig.suptitle('Espacio de colores', fontsize=20)\n",
    "ax1.set_title('Escala de grises')\n",
    "ax1.imshow(img_gray, cmap = \"gray\", aspect='auto')\n",
    "ax2.set_title('RGB')\n",
    "ax2.imshow(img_rgb, aspect='auto')\n",
    "ax3.set_title('HSV')\n",
    "ax3.imshow(img_hsv, aspect='auto')\n",
    "ax4.set_title('LAB')\n",
    "ax4.imshow(img_lab, aspect='auto')\n",
    "ax5.set_title('YUV')\n",
    "ax5.imshow(img_yuv, aspect='auto')\n",
    "ax6.set_title('XYZ')\n",
    "ax6.imshow(img_xyz, aspect='auto')"
   ]
  },
  {
   "cell_type": "code",
   "execution_count": null,
   "metadata": {},
   "outputs": [],
   "source": [
    "#Canales RGB\n",
    "###Escriba su código aquí (aprox 3 líneas)###\n",
    "img_R = img_rgb[:,:,0]\n",
    "img_G = img_rgb[:,:,1]\n",
    "img_B = img_rgb[:,:,2]\n",
    "###Modificación termina aquí###\n",
    "#Se crea el subplot 1x3\n",
    "fig, (ax1, ax2, ax3) = plt.subplots(1,3, figsize=(30, 7))\n",
    "#Se ponen títulos y se muestran las imágenes\n",
    "fig.suptitle('Canales RGB', fontsize=20)\n",
    "ax1.set_title('Canal R')\n",
    "ax1.imshow(img_R, cmap='gray', aspect='auto')\n",
    "ax2.set_title('Canal G')\n",
    "ax2.imshow(img_G, cmap='gray', aspect='auto')\n",
    "ax3.set_title('Canal B')\n",
    "ax3.imshow(img_B, cmap='gray', aspect='auto')"
   ]
  },
  {
   "cell_type": "markdown",
   "metadata": {},
   "source": [
    "### Salida esperada:\n",
    "\n",
    "<img src=\"res/rgb.png\"/>"
   ]
  },
  {
   "cell_type": "code",
   "execution_count": null,
   "metadata": {},
   "outputs": [],
   "source": [
    "#Canales HSV\n",
    "###Escriba su código aquí (aprox 3 líneas)###\n",
    "img_H = img_hsv[:,:,0]\n",
    "img_S = img_hsv[:,:,1]\n",
    "img_V = img_hsv[:,:,2]\n",
    "###Modificación termina aquí###\n",
    "#Se crea el subplot 1x3\n",
    "fig, (ax1, ax2, ax3) = plt.subplots(1,3, figsize=(30, 7))\n",
    "#Se ponen títulos y se muestran las imágenes\n",
    "fig.suptitle('Canales HSV', fontsize=20)\n",
    "ax1.set_title('Canal H')\n",
    "ax1.imshow(img_H, cmap='gray', aspect='auto')\n",
    "ax2.set_title('Canal S')\n",
    "ax2.imshow(img_S, cmap='gray', aspect='auto')\n",
    "ax3.set_title('Canal V')\n",
    "ax3.imshow(img_V, cmap='gray', aspect='auto')"
   ]
  },
  {
   "cell_type": "markdown",
   "metadata": {},
   "source": [
    "### Salida esperada:\n",
    "\n",
    "<img src=\"res/hsv.png\"/>"
   ]
  },
  {
   "cell_type": "code",
   "execution_count": null,
   "metadata": {},
   "outputs": [],
   "source": [
    "#Canales LAB\n",
    "###Escriba su código aquí (aprox 3 líneas)###\n",
    "img_L = img_lab[:,:,0]\n",
    "img_A = img_lab[:,:,1]\n",
    "img_B = img_lab[:,:,2]\n",
    "###Modificación termina aquí###\n",
    "#Se crea el subplot 1x3\n",
    "fig, (ax1, ax2, ax3) = plt.subplots(1,3, figsize=(30, 7))\n",
    "#Se ponen títulos y se muestran las imágenes\n",
    "fig.suptitle('Canales LAB', fontsize=20)\n",
    "ax1.set_title('Canal L')\n",
    "ax1.imshow(img_L, cmap='gray', aspect='auto')\n",
    "ax2.set_title('Canal A')\n",
    "ax2.imshow(img_A, cmap='gray', aspect='auto')\n",
    "ax3.set_title('Canal B')\n",
    "ax3.imshow(img_B, cmap='gray', aspect='auto')"
   ]
  },
  {
   "cell_type": "markdown",
   "metadata": {},
   "source": [
    "### Salida esperada:\n",
    "\n",
    "<img src=\"res/lab.png\"/>"
   ]
  },
  {
   "cell_type": "code",
   "execution_count": null,
   "metadata": {},
   "outputs": [],
   "source": [
    "#Canales YUV\n",
    "###Escriba su código aquí (aprox 3 líneas)###\n",
    "img_Y = img_yuv[:,:,0]\n",
    "img_U = img_yuv[:,:,1]\n",
    "img_V = img_yuv[:,:,2]\n",
    "###Modificación termina aquí###\n",
    "#Se crea el subplot 1x3\n",
    "fig, (ax1, ax2, ax3) = plt.subplots(1,3, figsize=(30, 7))\n",
    "#Se ponen títulos y se muestran las imágenes\n",
    "fig.suptitle('Canales YUV', fontsize=20)\n",
    "ax1.set_title('Canal Y')\n",
    "ax1.imshow(img_Y, cmap='gray', aspect='auto')\n",
    "ax2.set_title('Canal U')\n",
    "ax2.imshow(img_U, cmap='gray', aspect='auto')\n",
    "ax3.set_title('Canal V')\n",
    "ax3.imshow(img_V, cmap='gray', aspect='auto')"
   ]
  },
  {
   "cell_type": "markdown",
   "metadata": {},
   "source": [
    "### Salida esperada:\n",
    "\n",
    "<img src=\"res/yuv.png\"/>"
   ]
  },
  {
   "cell_type": "code",
   "execution_count": null,
   "metadata": {},
   "outputs": [],
   "source": [
    "#Canales XYZ\n",
    "###Escriba su código aquí (aprox 3 líneas)###\n",
    "img_X = img_xyz[:,:,0]\n",
    "img_Y = img_xyz[:,:,1]\n",
    "img_Z = img_xyz[:,:,2]\n",
    "###Modificación termina aquí###\n",
    "#Se crea el subplot 1x3\n",
    "fig, (ax1, ax2, ax3) = plt.subplots(1,3, figsize=(30, 7))\n",
    "#Se ponen títulos y se muestran las imágenes\n",
    "fig.suptitle('Canales XYZ', fontsize=20)\n",
    "ax1.set_title('Canal X')\n",
    "ax1.imshow(img_X, cmap='gray', aspect='auto')\n",
    "ax2.set_title('Canal Y')\n",
    "ax2.imshow(img_Y, cmap='gray', aspect='auto')\n",
    "ax3.set_title('Canal Z')\n",
    "ax3.imshow(img_Z, cmap='gray', aspect='auto')"
   ]
  },
  {
   "cell_type": "markdown",
   "metadata": {},
   "source": [
    "### Salida esperada:\n",
    "\n",
    "<img src=\"res/xyz.png\"/>"
   ]
  },
  {
   "cell_type": "markdown",
   "metadata": {},
   "source": [
    "¿Qué método propondría usted para diferenciar cada uno de los canales pertenecientes a los diferentes espacios de color? ¿Cómo las diferenciaría de la imagen en escala de grises?\n",
    "\n",
    "##### Nota: Es opcional y es libre de responder como usted quiera."
   ]
  },
  {
   "cell_type": "markdown",
   "metadata": {},
   "source": [
    "## Actividad 3."
   ]
  },
  {
   "cell_type": "markdown",
   "metadata": {},
   "source": [
    "La versión de NTSC aprobada por la Comisión Federal de Comunicaciones, en Estados Unidos, realiza una ligera variación en las ecuaciones del modelo YIQ: \n",
    "\n",
    "<img src=\"res/modificacion.png\"/>\n",
    "\n",
    "<br>Lea la imagen \"cells.png\" que se encuentra en la carpeta \"res\", escriba un código donde implemente la transformación lineal YIQ  modificada sobre el espacio de color RGB.</br>\n",
    "<br><b>Ayuda: Escriba en forma matricial el sistema para conocer las componentes R, G, B de los canales Y, I, Q.<b></br>"
   ]
  },
  {
   "cell_type": "code",
   "execution_count": null,
   "metadata": {},
   "outputs": [],
   "source": [
    "#Se lee la imagen \n",
    "img = cv2.imread(\"res/cells.png\", cv2.IMREAD_COLOR)\n",
    "img_rgb = cv2.cvtColor(img, cv2.COLOR_BGR2RGB)\n",
    "\n",
    "#Se descompone en los canales RGB\n",
    "###Escriba su código aquí (aprox 3 líneas)###\n",
    "img_R = img_rgb[:,:,0]\n",
    "img_G = img_rgb[:,:,1]\n",
    "img_B = img_rgb[:,:,2]\n",
    "###Modificación termina aquí###\n",
    "\n",
    "#Se obtienen los canales YIQ mediante una transformación lineal\n",
    "###Escriba su código aquí (aprox 3 líneas)###\n",
    "img_Y = 0.3*img_R + 0.59*img_G + 0.11*img_B\n",
    "img_I = -0.27*(img_B - img_Y) + 0.74*(img_R - img_Y)\n",
    "img_Q = 0.41*(img_B - img_Y) + 0.48*(img_R - img_Y)\n",
    "###Modificación termina aquí###\n",
    "\n",
    "#Mostrar y comparar imágenes\n",
    "fig, ((ax1, ax2, ax3)) = plt.subplots(1,3, figsize=(20, 5))\n",
    "fig.suptitle('Transformación lineal YIQ modificada', fontsize=20)\n",
    "ax1.set_title('Canal Y del YIQ')\n",
    "ax1.imshow(img_Y, cmap='gray', aspect='auto')\n",
    "ax2.set_title('Canal I del YIQ')\n",
    "ax2.imshow(img_I, cmap='gray', aspect='auto')\n",
    "ax3.set_title('Canal Q del YIQ')\n",
    "ax3.imshow(img_Q, cmap='gray', aspect='auto')\n"
   ]
  },
  {
   "cell_type": "markdown",
   "metadata": {},
   "source": [
    "### Salida esperada:\n",
    "\n",
    "<img src=\"res/actividad3.png\"/>"
   ]
  },
  {
   "cell_type": "markdown",
   "metadata": {},
   "source": [
    "¿En qué se diferencia la transformación YIQ, con la transformación ligeramente modificada? ¿Son idénticas? Pruebe comparando con el ejemplo implementado en clase."
   ]
  },
  {
   "cell_type": "code",
   "execution_count": null,
   "metadata": {},
   "outputs": [],
   "source": [
    "# YIQ Visto en clase\n",
    "img_Y_2 = 0.299*img_R + 0.587*img_G + 0.114*img_B\n",
    "img_I_2 = 0.596*img_R - 0.274*img_G - 0.322*img_B\n",
    "img_Q_2 = 0.211*img_R - 0.523*img_G + 0.312*img_B\n",
    "\n",
    "#Mostrar y comparar imágenes\n",
    "fig, ((ax1, ax2, ax3), (ax4, ax5, ax6)) = plt.subplots(2,3, figsize=(28, 15))\n",
    "fig.suptitle('YIQ(clase) vs YIQ(actividad)', fontsize=20)\n",
    "ax1.set_title('Canal R del RGB')\n",
    "ax1.imshow(img_Y_2, cmap='gray', aspect='auto')\n",
    "ax2.set_title('Canal G del RGB')\n",
    "ax2.imshow(img_I_2, cmap='gray', aspect='auto')\n",
    "ax3.set_title('Canal B del RGB')\n",
    "ax3.imshow(img_Q_2, cmap='gray', aspect='auto')\n",
    "ax4.set_title('Canal Y del YIQ')\n",
    "ax4.imshow(img_Y, cmap='gray', aspect='auto')\n",
    "ax5.set_title('Canal I del YIQ')\n",
    "ax5.imshow(img_I, cmap='gray', aspect='auto')\n",
    "ax6.set_title('Canal Q del YIQ')\n",
    "ax6.imshow(img_Q, cmap='gray', aspect='auto')"
   ]
  },
  {
   "cell_type": "code",
   "execution_count": null,
   "metadata": {},
   "outputs": [],
   "source": [
    "diff_Y = cv2.absdiff(img_Y,img_Y_2)\n",
    "diff_I = cv2.absdiff(img_I,img_I_2)\n",
    "diff_Q = cv2.absdiff(img_Q,img_Q_2)\n",
    "\n",
    "diff_Y = np.uint8(diff_Y)\n",
    "diff_I = np.uint8(diff_I)\n",
    "diff_Q = np.uint8(diff_Q)\n",
    "\n",
    "#Mostrar y comparar imágenes\n",
    "fig, ((ax1, ax2, ax3), (ax4, ax5, ax6), (ax7, ax8, ax9)) = plt.subplots(3,3, figsize=(20, 15))\n",
    "# fig.suptitle('Transformación lineal YIQ modificada', fontsize=20)\n",
    "ax1.set_title('Y (YIQ_Actividad - YIQ_Clase)')\n",
    "ax1.imshow(diff_Y, cmap='gray')\n",
    "ax2.set_title('I (YIQ_Actividad - YIQ_Clase)')\n",
    "ax2.imshow(diff_I, cmap='gray')\n",
    "ax3.set_title('Q (YIQ_Actividad - YIQ_Clase)')\n",
    "ax3.imshow(diff_Q, cmap='gray')\n",
    "\n",
    "ax4.set_title('Canal Y del YIQ_Clase')\n",
    "ax4.imshow(img_Y_2, cmap='gray', aspect='auto')\n",
    "ax5.set_title('Canal I del YIQ_Clase')\n",
    "ax5.imshow(img_I_2, cmap='gray', aspect='auto')\n",
    "ax6.set_title('Canal Q del YIQ_Clase')\n",
    "ax6.imshow(img_Q_2, cmap='gray', aspect='auto')\n",
    "ax7.set_title('Canal Y del YIQ_Actividad')\n",
    "ax7.imshow(img_Y, cmap='gray', aspect='auto')\n",
    "ax8.set_title('Canal I del YIQ_Actividad')\n",
    "ax8.imshow(img_I, cmap='gray', aspect='auto')\n",
    "ax9.set_title('Canal Q del YIQ_Actividad')\n",
    "\n",
    "ax9.imshow(img_Q, cmap='gray', aspect='auto')"
   ]
  },
  {
   "cell_type": "code",
   "execution_count": null,
   "metadata": {},
   "outputs": [],
   "source": [
    "# Check value points at image center\n",
    "img_shape = diff_Y.shape\n",
    "mid_height = img_shape[0]\n",
    "mid_width = img_shape[1]\n",
    "margin = 5\n",
    "\n",
    "# Just to check the \n",
    "center_crop_Y = diff_Y[mid_height-margin:mid_height+margin,mid_width-margin:mid_width+margin]\n",
    "center_crop_I = diff_I[mid_height-margin:mid_height+margin,mid_width-margin:mid_width+margin]\n",
    "center_crop_Q = diff_Q[mid_height-margin:mid_height+margin,mid_width-margin:mid_width+margin]\n",
    "\n",
    "print(\"Y:\")\n",
    "print(center_crop_Y)\n",
    "print(\"I:\")\n",
    "print(center_crop_I)\n",
    "print(\"Q:\")\n",
    "print(center_crop_Q)\n",
    "# print(\"{}, {}\".format(mid_height, mid_width))"
   ]
  },
  {
   "cell_type": "code",
   "execution_count": null,
   "metadata": {},
   "outputs": [],
   "source": []
  }
 ],
 "metadata": {
  "kernelspec": {
   "display_name": "Python 3",
   "language": "python",
   "name": "python3"
  },
  "language_info": {
   "codemirror_mode": {
    "name": "ipython",
    "version": 3
   },
   "file_extension": ".py",
   "mimetype": "text/x-python",
   "name": "python",
   "nbconvert_exporter": "python",
   "pygments_lexer": "ipython3",
   "version": "3.9.2"
  }
 },
 "nbformat": 4,
 "nbformat_minor": 4
}
